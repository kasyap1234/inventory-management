{
  "nbformat": 4,
  "nbformat_minor": 0,
  "metadata": {
    "colab": {
      "name": "Untitled1.ipynb",
      "provenance": [],
      "collapsed_sections": []
    },
    "kernelspec": {
      "name": "python3",
      "display_name": "Python 3"
    },
    "language_info": {
      "name": "python"
    }
  },
  "cells": [
    {
      "cell_type": "code",
      "metadata": {
        "id": "PrJkJ4wt9-Dh"
      },
      "source": [
        "\n",
        "import json\n",
        "fd=open('records.json','r')\n",
        "text=fd.read()\n",
        "fd.close()\n",
        "\n",
        "dicti=json.loads(text)"
      ],
      "execution_count": null,
      "outputs": []
    },
    {
      "cell_type": "code",
      "metadata": {
        "colab": {
          "base_uri": "https://localhost:8080/"
        },
        "id": "l4bpCIpzHDRh",
        "outputId": "b7a155ff-0a2b-45e7-e4c6-e8c3afdd9ba4"
      },
      "source": [
        "dicti\n"
      ],
      "execution_count": null,
      "outputs": [
        {
          "output_type": "execute_result",
          "data": {
            "text/plain": [
              "{'1001': {'name': 'Choco Cake', 'pr': 100, 'qn': 34},\n",
              " '1002': {'name': 'Milk Cake', 'pr': 800, 'qn': 100},\n",
              " '1003': {'name': 'Drink', 'pr': 85, 'qn': 100},\n",
              " '1004': {'name': 'Candy', 'pr': 5, 'qn': 1000},\n",
              " '1005': {'name': 'Pen', 'pr': 20, 'qn': 100},\n",
              " '1006': {'name': 'Phone', 'pr': 50000, 'qn': 10},\n",
              " '1007': {'name': 'Mic', 'pr': 1500, 'qn': 0},\n",
              " '1008': {'name': 'Case', 'pr': 599, 'qn': 5},\n",
              " '1009': {'name': 'Keyboard', 'pr': 1999, 'qn': 10}}"
            ]
          },
          "metadata": {},
          "execution_count": 21
        }
      ]
    },
    {
      "cell_type": "code",
      "metadata": {
        "colab": {
          "base_uri": "https://localhost:8080/"
        },
        "id": "XRRqHYp3HAWv",
        "outputId": "38d7ccb6-7b5b-4bcb-a3e0-583ecdae4cc5"
      },
      "source": [
        "ui_product=str(input(\"Enter product ID: \"))\n",
        "ui_quantity=int(input(\"Enter Quantity required: \"))\n",
        "\n",
        " \n",
        "print(\" Product name is : \", dicti[ui_product]['name'])\n",
        "print(\"Price per unit item is : \", dicti[ui_product]['pr'])\n",
        "print(\"Amount to be paid is : \", ui_quantity*dicti[ui_product]['pr'])\n",
        "dicti[ui_product]['qn']-=ui_quantity\n",
        "\n",
        "  "
      ],
      "execution_count": null,
      "outputs": [
        {
          "output_type": "stream",
          "name": "stdout",
          "text": [
            "Enter product ID: 1001\n",
            "Enter Quantity required: 4\n",
            " Product name is :  Choco Cake\n",
            "Price per unit item is :  100\n",
            "Amount to be paid is :  400\n"
          ]
        }
      ]
    },
    {
      "cell_type": "code",
      "metadata": {
        "id": "rqFg8R6FH5Ct"
      },
      "source": [
        "#updating  the inventory after making a purchase. "
      ],
      "execution_count": null,
      "outputs": []
    },
    {
      "cell_type": "code",
      "metadata": {
        "id": "RxL5bK8lMjcp"
      },
      "source": [
        "file=json.dumps(dicti)\n",
        "fd=open(\"records.json\",'w')\n",
        "fd.write(file)\n",
        "fd.close()"
      ],
      "execution_count": null,
      "outputs": []
    },
    {
      "cell_type": "code",
      "metadata": {
        "colab": {
          "base_uri": "https://localhost:8080/"
        },
        "id": "sRlW__fWMx-2",
        "outputId": "7f519bc6-3b70-4dd4-8c54-ddbf7f108828"
      },
      "source": [
        "print(dicti)"
      ],
      "execution_count": null,
      "outputs": [
        {
          "output_type": "stream",
          "name": "stdout",
          "text": [
            "{'1001': {'name': 'Choco Cake', 'qn': 30, 'pr': 100}, '1002': {'name': 'Milk Cake', 'pr': 800, 'qn': 100}, '1003': {'name': 'Drink', 'pr': 85, 'qn': 100}, '1004': {'name': 'Candy', 'pr': 5, 'qn': 1000}, '1005': {'name': 'Pen', 'pr': 20, 'qn': 100}, '1006': {'name': 'Phone', 'pr': 50000, 'qn': 10}, '1007': {'name': 'Mic', 'pr': 1500, 'qn': 0}, '1008': {'name': 'Case', 'pr': 599, 'qn': 5}, '1009': {'name': 'Keyboard', 'pr': 1999, 'qn': 10}}\n"
          ]
        }
      ]
    },
    {
      "cell_type": "code",
      "metadata": {
        "id": "5ORUNrFFM4b6"
      },
      "source": [
        ""
      ],
      "execution_count": null,
      "outputs": []
    },
    {
      "cell_type": "code",
      "metadata": {
        "id": "vKtsMLFMNTzJ"
      },
      "source": [
        ""
      ],
      "execution_count": null,
      "outputs": []
    },
    {
      "cell_type": "markdown",
      "metadata": {
        "id": "hdSVFkpoNFp3"
      },
      "source": [
        "# New section"
      ]
    }
  ]
}